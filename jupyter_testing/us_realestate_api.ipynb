{
 "cells": [
  {
   "attachments": {},
   "cell_type": "markdown",
   "metadata": {},
   "source": [
    "#### Testing the zillow api"
   ]
  },
  {
   "cell_type": "code",
   "execution_count": 2,
   "metadata": {},
   "outputs": [],
   "source": [
    "import requests\n",
    "import pandas as pd"
   ]
  },
  {
   "cell_type": "code",
   "execution_count": 3,
   "metadata": {},
   "outputs": [],
   "source": [
    "url = \"https://us-real-estate.p.rapidapi.com/property-by-mls-id\"\n",
    "\n",
    "querystring = {\"mls_id\":\"170550786\"}\n",
    "\n",
    "headers = {\n",
    "\t\"X-RapidAPI-Key\": \"fe7ae48289msh7c3517a0cacdcbbp143430jsnd4c11f1d33e7\",\n",
    "\t\"X-RapidAPI-Host\": \"us-real-estate.p.rapidapi.com\"\n",
    "}\n",
    "\n",
    "response = requests.request(\"GET\", url, headers=headers, params=querystring)\n",
    "\n"
   ]
  },
  {
   "cell_type": "code",
   "execution_count": 98,
   "metadata": {},
   "outputs": [
    {
     "data": {
      "text/plain": [
       "{'status': 200,\n",
       " 'data': {'total': 1,\n",
       "  'count': 1,\n",
       "  'results': [{'primary_photo': {'href': 'https://ap.rdcpix.com/50fe884d4fc559cc8aeefff7df6d262cl-b3824807093s-w1024_h768.jpg'},\n",
       "    'last_update_date': '2023-02-22T09:50:44Z',\n",
       "    'source': {'plan_id': None,\n",
       "     'agents': [{'office_name': None}],\n",
       "     'spec_id': None,\n",
       "     'type': 'mls'},\n",
       "    'tags': ['central_air',\n",
       "     'central_heat',\n",
       "     'community_golf',\n",
       "     'community_outdoor_space',\n",
       "     'community_security_features',\n",
       "     'den_or_office',\n",
       "     'dining_room',\n",
       "     'dishwasher',\n",
       "     'energy_efficient',\n",
       "     'fireplace',\n",
       "     'laundry_room',\n",
       "     'recreation_facilities',\n",
       "     'river_view',\n",
       "     'view',\n",
       "     'washer_dryer',\n",
       "     'water_view',\n",
       "     'basement',\n",
       "     'garage_1_or_more',\n",
       "     'big_lot'],\n",
       "    'permalink': '120-Chestnut-Land-Rd_New-Milford_CT_06776_M30204-08199',\n",
       "    'status': 'for_sale',\n",
       "    'list_date': '2023-02-17T16:59:47Z',\n",
       "    'open_houses': None,\n",
       "    'description': {'baths_3qtr': None,\n",
       "     'year_built': 1880,\n",
       "     'sold_price': 135000,\n",
       "     'baths_full': 1,\n",
       "     'name': None,\n",
       "     'baths_half': 2,\n",
       "     'lot_sqft': 55757,\n",
       "     'sqft': 2424,\n",
       "     'baths': 3,\n",
       "     'sub_type': None,\n",
       "     'baths_1qtr': None,\n",
       "     'garage': 1,\n",
       "     'stories': None,\n",
       "     'beds': 2,\n",
       "     'type': 'single_family'},\n",
       "    'branding': [{'name': \"William Pitt Sotheby's International Realty\",\n",
       "      'photo': None,\n",
       "      'type': 'Office'}],\n",
       "    'list_price': 325000,\n",
       "    'lead_attributes': {'show_contact_an_agent': True},\n",
       "    'property_id': '3020408199',\n",
       "    'photos': [{'tags': [{'label': 'house_view',\n",
       "        'probability': 0.99652916193008},\n",
       "       {'label': 'yard', 'probability': 0.99919670820236},\n",
       "       {'label': 'house_view', 'probability': 0.7099586725235},\n",
       "       {'label': 'house_view', 'probability': 0.92429798841476}],\n",
       "      'href': 'https://ap.rdcpix.com/50fe884d4fc559cc8aeefff7df6d262cl-b3824807093s-w1024_h768.jpg'},\n",
       "     {'tags': [{'label': 'house_view', 'probability': 0.88868594169617},\n",
       "       {'label': 'porch', 'probability': 0.99948525428772},\n",
       "       {'label': 'porch', 'probability': 0.99954968690872},\n",
       "       {'label': 'house_view', 'probability': 0.99348032474518},\n",
       "       {'label': 'house_view', 'probability': 0.98875623941422}],\n",
       "      'href': 'https://ap.rdcpix.com/50fe884d4fc559cc8aeefff7df6d262cl-b312093217s-w1024_h768.jpg'},\n",
       "     {'tags': [{'label': 'unknown', 'probability': 0.99959117174149}],\n",
       "      'href': 'https://ap.rdcpix.com/50fe884d4fc559cc8aeefff7df6d262cl-b3647604198s-w1024_h768.jpg'},\n",
       "     {'tags': [{'label': 'living_room', 'probability': 0.99996781349182}],\n",
       "      'href': 'https://ap.rdcpix.com/50fe884d4fc559cc8aeefff7df6d262cl-b2915718052s-w1024_h768.jpg'},\n",
       "     {'tags': [{'label': 'living_room', 'probability': 0.99527055025101}],\n",
       "      'href': 'https://ap.rdcpix.com/50fe884d4fc559cc8aeefff7df6d262cl-b723675036s-w1024_h768.jpg'}],\n",
       "    'flags': {'is_new_construction': None,\n",
       "     'is_for_rent': None,\n",
       "     'is_subdivision': None,\n",
       "     'is_contingent': None,\n",
       "     'is_price_reduced': None,\n",
       "     'is_pending': True,\n",
       "     'is_foreclosure': None,\n",
       "     'is_plan': None,\n",
       "     'is_coming_soon': None,\n",
       "     'is_new_listing': False},\n",
       "    'community': None,\n",
       "    'products': {'brand_name': 'essentials'},\n",
       "    'virtual_tours': None,\n",
       "    'other_listings': {'rdc': [{'listing_id': '2952510384',\n",
       "       'listing_key': None,\n",
       "       'status': 'for_sale',\n",
       "       'primary': True}]},\n",
       "    'listing_id': '2952510384',\n",
       "    'price_reduced_amount': None,\n",
       "    'location': {'address': {'postal_code': '06776',\n",
       "      'state': 'Connecticut',\n",
       "      'coordinate': {'lon': -73.393435, 'lat': 41.606685},\n",
       "      'city': 'New Milford',\n",
       "      'state_code': 'CT',\n",
       "      'line': '120 Chestnut Land Rd'},\n",
       "     'street_view_url': 'https://maps.googleapis.com/maps/api/streetview?channel=rdc-streetview&client=gme-movesalesinc&location=120%20Chestnut%20Land%20Rd%2C%20New%20Milford%2C%20CT%2006776&size=640x480&source=outdoor&signature=sW92gjdwdee74aqf3xwNDFkCLMA=',\n",
       "     'county': {'fips_code': '09005', 'name': 'Litchfield'}},\n",
       "    'matterport': False}]}}"
      ]
     },
     "execution_count": 98,
     "metadata": {},
     "output_type": "execute_result"
    }
   ],
   "source": [
    "results = response.json()\n",
    "results"
   ]
  },
  {
   "attachments": {},
   "cell_type": "markdown",
   "metadata": {},
   "source": [
    "Coordinates"
   ]
  },
  {
   "cell_type": "code",
   "execution_count": 88,
   "metadata": {},
   "outputs": [
    {
     "data": {
      "text/plain": [
       "{'property': {'lon': -73.393435, 'lat': 41.606685}}"
      ]
     },
     "execution_count": 88,
     "metadata": {},
     "output_type": "execute_result"
    }
   ],
   "source": [
    "coordinates = results['data']['results'][0]['location']['address']['coordinate']\n",
    "coordinates\n",
    "results_dict = {\n",
    "    'property' : coordinates\n",
    "}\n",
    "results_dict"
   ]
  },
  {
   "attachments": {},
   "cell_type": "markdown",
   "metadata": {},
   "source": [
    "List Price"
   ]
  },
  {
   "cell_type": "code",
   "execution_count": 90,
   "metadata": {},
   "outputs": [
    {
     "data": {
      "text/plain": [
       "325000"
      ]
     },
     "execution_count": 90,
     "metadata": {},
     "output_type": "execute_result"
    }
   ],
   "source": [
    "price = results['data']['results'][0]['list_price']\n",
    "price"
   ]
  },
  {
   "attachments": {},
   "cell_type": "markdown",
   "metadata": {},
   "source": [
    "Primary Photo"
   ]
  },
  {
   "cell_type": "code",
   "execution_count": 91,
   "metadata": {},
   "outputs": [
    {
     "data": {
      "text/plain": [
       "{'href': 'https://ap.rdcpix.com/50fe884d4fc559cc8aeefff7df6d262cl-b3824807093s-w1024_h768.jpg'}"
      ]
     },
     "execution_count": 91,
     "metadata": {},
     "output_type": "execute_result"
    }
   ],
   "source": [
    "photo = results['data']['results'][0]['primary_photo']['href']\n",
    "photo"
   ]
  },
  {
   "attachments": {},
   "cell_type": "markdown",
   "metadata": {},
   "source": [
    "Info"
   ]
  },
  {
   "cell_type": "code",
   "execution_count": 97,
   "metadata": {},
   "outputs": [
    {
     "name": "stdout",
     "output_type": "stream",
     "text": [
      "baths_3qtr : None\n",
      "year_built : 1880\n",
      "sold_price : 135000\n",
      "baths_full : 1\n",
      "name : None\n",
      "baths_half : 2\n",
      "lot_sqft : 55757\n",
      "sqft : 2424\n",
      "baths : 3\n",
      "sub_type : None\n",
      "baths_1qtr : None\n",
      "garage : 1\n",
      "stories : None\n",
      "beds : 2\n",
      "type : single_family\n"
     ]
    }
   ],
   "source": [
    "description = results['data']['results'][0]['description']\n",
    "description\n",
    "\n",
    "for label, info in description.items():\n",
    "    print(f\"{label} : {info}\")"
   ]
  },
  {
   "cell_type": "code",
   "execution_count": null,
   "metadata": {},
   "outputs": [],
   "source": []
  }
 ],
 "metadata": {
  "kernelspec": {
   "display_name": "venv",
   "language": "python",
   "name": "python3"
  },
  "language_info": {
   "codemirror_mode": {
    "name": "ipython",
    "version": 3
   },
   "file_extension": ".py",
   "mimetype": "text/x-python",
   "name": "python",
   "nbconvert_exporter": "python",
   "pygments_lexer": "ipython3",
   "version": "3.10.4"
  },
  "orig_nbformat": 4,
  "vscode": {
   "interpreter": {
    "hash": "e31831e97d7ac010e90297e0b0b585ca2130ee6e31805d807494eb67090e8404"
   }
  }
 },
 "nbformat": 4,
 "nbformat_minor": 2
}
