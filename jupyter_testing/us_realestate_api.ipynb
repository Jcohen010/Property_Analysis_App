{
 "cells": [
  {
   "attachments": {},
   "cell_type": "markdown",
   "metadata": {},
   "source": [
    "#### Testing the zillow api"
   ]
  },
  {
   "cell_type": "code",
   "execution_count": 2,
   "metadata": {},
   "outputs": [],
   "source": [
    "import requests\n",
    "import pandas as pd"
   ]
  },
  {
   "cell_type": "code",
   "execution_count": 3,
   "metadata": {},
   "outputs": [],
   "source": [
    "url = \"https://us-real-estate.p.rapidapi.com/property-by-mls-id\"\n",
    "\n",
    "querystring = {\"mls_id\":\"170550786\"}\n",
    "\n",
    "headers = {\n",
    "\t\"X-RapidAPI-Key\": \"fe7ae48289msh7c3517a0cacdcbbp143430jsnd4c11f1d33e7\",\n",
    "\t\"X-RapidAPI-Host\": \"us-real-estate.p.rapidapi.com\"\n",
    "}\n",
    "\n",
    "response = requests.request(\"GET\", url, headers=headers, params=querystring)\n",
    "\n"
   ]
  },
  {
   "cell_type": "code",
   "execution_count": 4,
   "metadata": {},
   "outputs": [],
   "source": [
    "results = response.json()"
   ]
  },
  {
   "attachments": {},
   "cell_type": "markdown",
   "metadata": {},
   "source": [
    "Coordinates"
   ]
  },
  {
   "cell_type": "code",
   "execution_count": 88,
   "metadata": {},
   "outputs": [
    {
     "data": {
      "text/plain": [
       "{'property': {'lon': -73.393435, 'lat': 41.606685}}"
      ]
     },
     "execution_count": 88,
     "metadata": {},
     "output_type": "execute_result"
    }
   ],
   "source": [
    "coordinates = results['data']['results'][0]['location']['address']['coordinate']\n",
    "coordinates\n",
    "results_dict = {\n",
    "    'property' : coordinates\n",
    "}\n",
    "results_dict"
   ]
  },
  {
   "attachments": {},
   "cell_type": "markdown",
   "metadata": {},
   "source": [
    "List Price"
   ]
  },
  {
   "cell_type": "code",
   "execution_count": 90,
   "metadata": {},
   "outputs": [
    {
     "data": {
      "text/plain": [
       "325000"
      ]
     },
     "execution_count": 90,
     "metadata": {},
     "output_type": "execute_result"
    }
   ],
   "source": [
    "price = results['data']['results'][0]['list_price']\n",
    "price"
   ]
  },
  {
   "attachments": {},
   "cell_type": "markdown",
   "metadata": {},
   "source": [
    "Primary Photo"
   ]
  },
  {
   "cell_type": "code",
   "execution_count": 91,
   "metadata": {},
   "outputs": [
    {
     "data": {
      "text/plain": [
       "{'href': 'https://ap.rdcpix.com/50fe884d4fc559cc8aeefff7df6d262cl-b3824807093s-w1024_h768.jpg'}"
      ]
     },
     "execution_count": 91,
     "metadata": {},
     "output_type": "execute_result"
    }
   ],
   "source": [
    "photo = results['data']['results'][0]['primary_photo']['href']\n",
    "photo"
   ]
  },
  {
   "attachments": {},
   "cell_type": "markdown",
   "metadata": {},
   "source": [
    "Info"
   ]
  },
  {
   "cell_type": "code",
   "execution_count": 93,
   "metadata": {},
   "outputs": [
    {
     "data": {
      "text/plain": [
       "{'baths_3qtr': None,\n",
       " 'year_built': 1880,\n",
       " 'sold_price': 135000,\n",
       " 'baths_full': 1,\n",
       " 'name': None,\n",
       " 'baths_half': 2,\n",
       " 'lot_sqft': 55757,\n",
       " 'sqft': 2424,\n",
       " 'baths': 3,\n",
       " 'sub_type': None,\n",
       " 'baths_1qtr': None,\n",
       " 'garage': 1,\n",
       " 'stories': None,\n",
       " 'beds': 2,\n",
       " 'type': 'single_family'}"
      ]
     },
     "execution_count": 93,
     "metadata": {},
     "output_type": "execute_result"
    }
   ],
   "source": [
    "description = results['data']['results'][0]['description']\n",
    "description"
   ]
  }
 ],
 "metadata": {
  "kernelspec": {
   "display_name": "venv",
   "language": "python",
   "name": "python3"
  },
  "language_info": {
   "codemirror_mode": {
    "name": "ipython",
    "version": 3
   },
   "file_extension": ".py",
   "mimetype": "text/x-python",
   "name": "python",
   "nbconvert_exporter": "python",
   "pygments_lexer": "ipython3",
   "version": "3.10.4"
  },
  "orig_nbformat": 4,
  "vscode": {
   "interpreter": {
    "hash": "e31831e97d7ac010e90297e0b0b585ca2130ee6e31805d807494eb67090e8404"
   }
  }
 },
 "nbformat": 4,
 "nbformat_minor": 2
}
