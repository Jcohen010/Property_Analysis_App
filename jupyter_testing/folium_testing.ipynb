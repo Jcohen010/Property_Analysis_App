{
 "cells": [
  {
   "cell_type": "code",
   "execution_count": 1,
   "metadata": {},
   "outputs": [],
   "source": [
    "coordinates_dict = {\n",
    "        'coordinates' : {\n",
    "            'home' : [\n",
    "            {'Justin' : {\n",
    "                'lat' : 41.33115142971489,\n",
    "                'lon' : -73.18608590196374\n",
    "                        }},\n",
    "            {'Syd' : {\n",
    "                'lat' : 41.331497982773655,\n",
    "                'lon' : -73.44446180227342\n",
    "            }}],\n",
    "            'work' : [\n",
    "            {'Curtis Packaging' : {\n",
    "                'lat' : 41.4076328155581, \n",
    "                'lon' : -73.26196805970572\n",
    "            }},\n",
    "            {'Danbury Ice' : {\n",
    "                'lat' : 41.395522684003225, \n",
    "                'lon' : -73.45088991552578\n",
    "            }},\n",
    "            {'Brewster Ice' : {\n",
    "                'lat' : 41.36578270632403,\n",
    "                'lon' : -73.61497920268121\n",
    "            }}\n",
    "    ]}\n",
    "}"
   ]
  },
  {
   "cell_type": "code",
   "execution_count": 6,
   "metadata": {},
   "outputs": [
    {
     "data": {
      "text/plain": [
       "[{'Justin': {'lat': 41.33115142971489, 'lon': -73.18608590196374}},\n",
       " {'Syd': {'lat': 41.331497982773655, 'lon': -73.44446180227342}}]"
      ]
     },
     "execution_count": 6,
     "metadata": {},
     "output_type": "execute_result"
    }
   ],
   "source": [
    "coordinates_dict['coordinates']['home']"
   ]
  },
  {
   "cell_type": "code",
   "execution_count": 24,
   "metadata": {},
   "outputs": [
    {
     "name": "stdout",
     "output_type": "stream",
     "text": [
      "41.33115142971489\n",
      "41.331497982773655\n",
      "41.4076328155581\n",
      "41.395522684003225\n",
      "41.36578270632403\n"
     ]
    }
   ],
   "source": [
    "for category, dict in coordinates_dict['coordinates'].items():\n",
    "    # print(category)\n",
    "    for item in dict:\n",
    "        for place, coordinatepair in item.items():\n",
    "            if place != 'property':\n",
    "                person = place\n",
    "            print(coordinatepair['lat'])\n",
    "    # for place in item:\n",
    "    #     print(place)\n",
    "    #     # print(coordinate_pair['lon'])\n",
    "    #     pass"
   ]
  }
 ],
 "metadata": {
  "kernelspec": {
   "display_name": "venv",
   "language": "python",
   "name": "python3"
  },
  "language_info": {
   "codemirror_mode": {
    "name": "ipython",
    "version": 3
   },
   "file_extension": ".py",
   "mimetype": "text/x-python",
   "name": "python",
   "nbconvert_exporter": "python",
   "pygments_lexer": "ipython3",
   "version": "3.10.4"
  },
  "orig_nbformat": 4,
  "vscode": {
   "interpreter": {
    "hash": "e31831e97d7ac010e90297e0b0b585ca2130ee6e31805d807494eb67090e8404"
   }
  }
 },
 "nbformat": 4,
 "nbformat_minor": 2
}
