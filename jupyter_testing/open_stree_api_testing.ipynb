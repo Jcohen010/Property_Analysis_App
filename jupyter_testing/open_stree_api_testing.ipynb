{
 "cells": [
  {
   "cell_type": "code",
   "execution_count": 1,
   "metadata": {},
   "outputs": [],
   "source": [
    "import json\n",
    "import requests\n",
    "import pandas as pd\n",
    "from datetime import timedelta\n",
    "import datetime"
   ]
  },
  {
   "cell_type": "code",
   "execution_count": 2,
   "metadata": {},
   "outputs": [],
   "source": [
    "coordinates = {\n",
    "    'lat' : [41.33115142971489, 41.331497982773655],\n",
    "    'lon' : [-73.18608590196374, -73.44446180227342]\n",
    "}\n",
    "\n",
    "coordinates_df = pd.DataFrame(coordinates, columns=['lat', 'lon'])"
   ]
  },
  {
   "cell_type": "code",
   "execution_count": 3,
   "metadata": {},
   "outputs": [],
   "source": [
    "r = requests.get(f\"http://router.project-osrm.org/route/v1/car/{coordinates_df['lon'][0]},{coordinates_df['lat'][0]};{coordinates_df['lon'][1]},{coordinates_df['lat'][1]}?overview=false\"\"\")\n",
    "# then you load the response using the json libray\n",
    "# by default you get only one alternative so you access 0-th element of the `routes`\n",
    "routes = json.loads(r.content)\n",
    "route_1 = routes.get(\"routes\")[0]"
   ]
  },
  {
   "cell_type": "code",
   "execution_count": 4,
   "metadata": {},
   "outputs": [
    {
     "data": {
      "text/plain": [
       "'0:43:25'"
      ]
     },
     "execution_count": 4,
     "metadata": {},
     "output_type": "execute_result"
    }
   ],
   "source": [
    "str(datetime.timedelta(seconds=route_1[\"duration\"]))"
   ]
  }
 ],
 "metadata": {
  "kernelspec": {
   "display_name": "venv",
   "language": "python",
   "name": "python3"
  },
  "language_info": {
   "codemirror_mode": {
    "name": "ipython",
    "version": 3
   },
   "file_extension": ".py",
   "mimetype": "text/x-python",
   "name": "python",
   "nbconvert_exporter": "python",
   "pygments_lexer": "ipython3",
   "version": "3.10.4"
  },
  "orig_nbformat": 4,
  "vscode": {
   "interpreter": {
    "hash": "e31831e97d7ac010e90297e0b0b585ca2130ee6e31805d807494eb67090e8404"
   }
  }
 },
 "nbformat": 4,
 "nbformat_minor": 2
}
